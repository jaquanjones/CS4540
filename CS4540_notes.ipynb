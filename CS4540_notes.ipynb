{
  "nbformat": 4,
  "nbformat_minor": 0,
  "metadata": {
    "colab": {
      "name": "CS4540-notes.ipynb",
      "provenance": [],
      "authorship_tag": "ABX9TyN8X9v/RoHXDKGCsv8evwAd",
      "include_colab_link": true
    },
    "kernelspec": {
      "name": "python3",
      "display_name": "Python 3"
    },
    "language_info": {
      "name": "python"
    }
  },
  "cells": [
    {
      "cell_type": "markdown",
      "metadata": {
        "id": "view-in-github",
        "colab_type": "text"
      },
      "source": [
        "<a href=\"https://colab.research.google.com/github/jaquanjones/CS4540/blob/master/CS4540_notes.ipynb\" target=\"_parent\"><img src=\"https://colab.research.google.com/assets/colab-badge.svg\" alt=\"Open In Colab\"/></a>"
      ]
    },
    {
      "cell_type": "markdown",
      "metadata": {
        "id": "vl8oIPmp5V3I"
      },
      "source": [
        "### Topics\n",
        "\n",
        "* Cryptography\n",
        "* System security\n",
        "* Software security\n",
        "* Network security\n",
        "* Web security\n",
        "* Advanced topics\n",
        "  * Mobile security\n",
        "  * IoT security and privacy\n",
        "  * Cloud security and privacy\n"
      ]
    },
    {
      "cell_type": "markdown",
      "metadata": {
        "id": "1bfRt5aA6lXn"
      },
      "source": [
        "# Introduction"
      ]
    },
    {
      "cell_type": "markdown",
      "metadata": {
        "id": "7AC84nkt6znj"
      },
      "source": [
        "## What is cybersecurity?\n",
        "\n",
        "* Confidentiality - the concealment of info or resources\n",
        "  * E.g. only sender, intended receiver should \"understand\" message contents\n",
        "\n",
        "* Authenticity - the identification and assurance of the origin of information\n",
        "\n",
        "* Integrity - the trustworthiness of data or resouces in terms of preventing improper and unauthorized changes\n",
        "\n",
        "* Availability - the ability to use the info or resource desired"
      ]
    },
    {
      "cell_type": "markdown",
      "metadata": {
        "id": "BCtoVA9h-1Gc"
      },
      "source": [
        "## Cybersecurity\n",
        "\n",
        "* Threat/vulnerability:\n",
        "  * Flaws in design, implementation, and operation\n",
        "\n",
        "* Attack\n",
        "  * An action that violates security\n",
        "  * Intend to steal info, mis-configurate info or cause loss of availability, etc\n",
        "\n",
        "* Protection\n",
        "  * Counter mesasures against malicious attacks\n",
        "  * Ensure the security and privacy of info and communications"
      ]
    },
    {
      "cell_type": "markdown",
      "metadata": {
        "id": "suM65dvC-14k"
      },
      "source": [
        "## Attack examples\n",
        "\n",
        "* Worms, or other malicious software, ...\n",
        "  * System security, software security\n",
        "\n",
        "* Eavesdropping, packet sniff and spoof, man-in-the-middle, DDoS attacks, ...\n",
        "  * Network security\n",
        "\n",
        "* CSRF, SQL injection, XSS, ...\n",
        "  * Web security\n",
        "\n",
        "* Other attacks\n",
        "  * Botnet\n",
        "  * Android (e.g. repackaging)\n",
        "  * IoT\n",
        "  * Cloud\n"
      ]
    },
    {
      "cell_type": "markdown",
      "metadata": {
        "id": "VxjS3i1nAyr6"
      },
      "source": [
        "## Counter measures\n",
        "* Access control\n",
        "* Encryption, authentication\n",
        "* TLS, SSL\n",
        "* Firewall\n",
        "* IPSec, VPN\n",
        "* Instruction detection\n",
        "* More..."
      ]
    },
    {
      "cell_type": "code",
      "metadata": {
        "id": "qSQUUeny5Uxm"
      },
      "source": [
        ""
      ],
      "execution_count": null,
      "outputs": []
    }
  ]
}